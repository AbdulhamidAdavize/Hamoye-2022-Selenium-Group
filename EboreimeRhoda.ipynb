{
  "nbformat": 4,
  "nbformat_minor": 0,
  "metadata": {
    "colab": {
      "name": "projectEDA.ipynb",
      "provenance": [],
      "authorship_tag": "ABX9TyNsQkY+OZXN8lE4Nqfamdha"
    },
    "kernelspec": {
      "name": "python3",
      "display_name": "Python 3"
    },
    "language_info": {
      "name": "python"
    }
  },
  "cells": [
    {
      "cell_type": "markdown",
      "source": [
        "## (Incomplete EDA)"
      ],
      "metadata": {
        "id": "4Co_a4KTb8K0"
      }
    },
    {
      "cell_type": "code",
      "execution_count": 83,
      "metadata": {
        "id": "OPEt8Vg-MGDc"
      },
      "outputs": [],
      "source": [
        "import pandas as pd\n",
        "import matplotlib.pyplot as plt\n",
        "import numpy as np\n",
        "import warnings\n",
        "warnings.filterwarnings('ignore')"
      ]
    },
    {
      "cell_type": "code",
      "source": [
        "data = pd.read_excel('/content/Foreign_Exchange_Rates.xlsx', na_values='ND')"
      ],
      "metadata": {
        "id": "_8t_qXvwM3G_"
      },
      "execution_count": 84,
      "outputs": []
    },
    {
      "cell_type": "code",
      "source": [
        "data.head()"
      ],
      "metadata": {
        "colab": {
          "base_uri": "https://localhost:8080/",
          "height": 456
        },
        "id": "20UkB2DxS2Tm",
        "outputId": "4433f6ab-2454-4023-8a2a-d81ed089ac85"
      },
      "execution_count": 85,
      "outputs": [
        {
          "output_type": "execute_result",
          "data": {
            "text/plain": [
              "   Time Serie  AUSTRALIA - AUSTRALIAN DOLLAR/US$  EURO AREA - EURO/US$  \\\n",
              "0  2000-01-03                             1.5172                0.9847   \n",
              "1  2000-01-04                             1.5239                0.9700   \n",
              "2  2000-01-05                             1.5267                0.9676   \n",
              "3  2000-01-06                             1.5291                0.9686   \n",
              "4  2000-01-07                             1.5272                0.9714   \n",
              "\n",
              "   NEW ZEALAND - NEW ZELAND DOLLAR/US$  \\\n",
              "0                               1.9033   \n",
              "1                               1.9238   \n",
              "2                               1.9339   \n",
              "3                               1.9436   \n",
              "4                               1.9380   \n",
              "\n",
              "   UNITED KINGDOM - UNITED KINGDOM POUND/US$  BRAZIL - REAL/US$  \\\n",
              "0                                     0.6146             1.8050   \n",
              "1                                     0.6109             1.8405   \n",
              "2                                     0.6092             1.8560   \n",
              "3                                     0.6070             1.8400   \n",
              "4                                     0.6104             1.8310   \n",
              "\n",
              "   CANADA - CANADIAN DOLLAR/US$  CHINA - YUAN/US$  \\\n",
              "0                        1.4465            8.2798   \n",
              "1                        1.4518            8.2799   \n",
              "2                        1.4518            8.2798   \n",
              "3                        1.4571            8.2797   \n",
              "4                        1.4505            8.2794   \n",
              "\n",
              "   HONG KONG - HONG KONG DOLLAR/US$  INDIA - INDIAN RUPEE/US$  ...  \\\n",
              "0                            7.7765                     43.55  ...   \n",
              "1                            7.7775                     43.55  ...   \n",
              "2                            7.7780                     43.55  ...   \n",
              "3                            7.7785                     43.55  ...   \n",
              "4                            7.7783                     43.55  ...   \n",
              "\n",
              "   SINGAPORE - SINGAPORE DOLLAR/US$  DENMARK - DANISH KRONE/US$  \\\n",
              "0                            1.6563                      7.3290   \n",
              "1                            1.6535                      7.2180   \n",
              "2                            1.6560                      7.2080   \n",
              "3                            1.6655                      7.2125   \n",
              "4                            1.6625                      7.2285   \n",
              "\n",
              "   JAPAN - YEN/US$  MALAYSIA - RINGGIT/US$  NORWAY - NORWEGIAN KRONE/US$  \\\n",
              "0           101.70                     3.8                         7.964   \n",
              "1           103.09                     3.8                         7.934   \n",
              "2           103.77                     3.8                         7.935   \n",
              "3           105.19                     3.8                         7.940   \n",
              "4           105.17                     3.8                         7.966   \n",
              "\n",
              "   SWEDEN - KRONA/US$  SRI LANKA - SRI LANKAN RUPEE/US$  \\\n",
              "0              8.4430                             72.30   \n",
              "1              8.3600                             72.65   \n",
              "2              8.3530                             72.95   \n",
              "3              8.3675                             72.95   \n",
              "4              8.4150                             73.15   \n",
              "\n",
              "   SWITZERLAND - FRANC/US$  TAIWAN - NEW TAIWAN DOLLAR/US$  \\\n",
              "0                   1.5808                           31.38   \n",
              "1                   1.5565                           30.60   \n",
              "2                   1.5526                           30.80   \n",
              "3                   1.5540                           31.75   \n",
              "4                   1.5623                           30.85   \n",
              "\n",
              "   THAILAND - BAHT/US$  \n",
              "0                36.97  \n",
              "1                37.13  \n",
              "2                37.10  \n",
              "3                37.62  \n",
              "4                37.30  \n",
              "\n",
              "[5 rows x 23 columns]"
            ],
            "text/html": [
              "\n",
              "  <div id=\"df-c46aa882-59bd-482c-859b-216ea3c71f20\">\n",
              "    <div class=\"colab-df-container\">\n",
              "      <div>\n",
              "<style scoped>\n",
              "    .dataframe tbody tr th:only-of-type {\n",
              "        vertical-align: middle;\n",
              "    }\n",
              "\n",
              "    .dataframe tbody tr th {\n",
              "        vertical-align: top;\n",
              "    }\n",
              "\n",
              "    .dataframe thead th {\n",
              "        text-align: right;\n",
              "    }\n",
              "</style>\n",
              "<table border=\"1\" class=\"dataframe\">\n",
              "  <thead>\n",
              "    <tr style=\"text-align: right;\">\n",
              "      <th></th>\n",
              "      <th>Time Serie</th>\n",
              "      <th>AUSTRALIA - AUSTRALIAN DOLLAR/US$</th>\n",
              "      <th>EURO AREA - EURO/US$</th>\n",
              "      <th>NEW ZEALAND - NEW ZELAND DOLLAR/US$</th>\n",
              "      <th>UNITED KINGDOM - UNITED KINGDOM POUND/US$</th>\n",
              "      <th>BRAZIL - REAL/US$</th>\n",
              "      <th>CANADA - CANADIAN DOLLAR/US$</th>\n",
              "      <th>CHINA - YUAN/US$</th>\n",
              "      <th>HONG KONG - HONG KONG DOLLAR/US$</th>\n",
              "      <th>INDIA - INDIAN RUPEE/US$</th>\n",
              "      <th>...</th>\n",
              "      <th>SINGAPORE - SINGAPORE DOLLAR/US$</th>\n",
              "      <th>DENMARK - DANISH KRONE/US$</th>\n",
              "      <th>JAPAN - YEN/US$</th>\n",
              "      <th>MALAYSIA - RINGGIT/US$</th>\n",
              "      <th>NORWAY - NORWEGIAN KRONE/US$</th>\n",
              "      <th>SWEDEN - KRONA/US$</th>\n",
              "      <th>SRI LANKA - SRI LANKAN RUPEE/US$</th>\n",
              "      <th>SWITZERLAND - FRANC/US$</th>\n",
              "      <th>TAIWAN - NEW TAIWAN DOLLAR/US$</th>\n",
              "      <th>THAILAND - BAHT/US$</th>\n",
              "    </tr>\n",
              "  </thead>\n",
              "  <tbody>\n",
              "    <tr>\n",
              "      <th>0</th>\n",
              "      <td>2000-01-03</td>\n",
              "      <td>1.5172</td>\n",
              "      <td>0.9847</td>\n",
              "      <td>1.9033</td>\n",
              "      <td>0.6146</td>\n",
              "      <td>1.8050</td>\n",
              "      <td>1.4465</td>\n",
              "      <td>8.2798</td>\n",
              "      <td>7.7765</td>\n",
              "      <td>43.55</td>\n",
              "      <td>...</td>\n",
              "      <td>1.6563</td>\n",
              "      <td>7.3290</td>\n",
              "      <td>101.70</td>\n",
              "      <td>3.8</td>\n",
              "      <td>7.964</td>\n",
              "      <td>8.4430</td>\n",
              "      <td>72.30</td>\n",
              "      <td>1.5808</td>\n",
              "      <td>31.38</td>\n",
              "      <td>36.97</td>\n",
              "    </tr>\n",
              "    <tr>\n",
              "      <th>1</th>\n",
              "      <td>2000-01-04</td>\n",
              "      <td>1.5239</td>\n",
              "      <td>0.9700</td>\n",
              "      <td>1.9238</td>\n",
              "      <td>0.6109</td>\n",
              "      <td>1.8405</td>\n",
              "      <td>1.4518</td>\n",
              "      <td>8.2799</td>\n",
              "      <td>7.7775</td>\n",
              "      <td>43.55</td>\n",
              "      <td>...</td>\n",
              "      <td>1.6535</td>\n",
              "      <td>7.2180</td>\n",
              "      <td>103.09</td>\n",
              "      <td>3.8</td>\n",
              "      <td>7.934</td>\n",
              "      <td>8.3600</td>\n",
              "      <td>72.65</td>\n",
              "      <td>1.5565</td>\n",
              "      <td>30.60</td>\n",
              "      <td>37.13</td>\n",
              "    </tr>\n",
              "    <tr>\n",
              "      <th>2</th>\n",
              "      <td>2000-01-05</td>\n",
              "      <td>1.5267</td>\n",
              "      <td>0.9676</td>\n",
              "      <td>1.9339</td>\n",
              "      <td>0.6092</td>\n",
              "      <td>1.8560</td>\n",
              "      <td>1.4518</td>\n",
              "      <td>8.2798</td>\n",
              "      <td>7.7780</td>\n",
              "      <td>43.55</td>\n",
              "      <td>...</td>\n",
              "      <td>1.6560</td>\n",
              "      <td>7.2080</td>\n",
              "      <td>103.77</td>\n",
              "      <td>3.8</td>\n",
              "      <td>7.935</td>\n",
              "      <td>8.3530</td>\n",
              "      <td>72.95</td>\n",
              "      <td>1.5526</td>\n",
              "      <td>30.80</td>\n",
              "      <td>37.10</td>\n",
              "    </tr>\n",
              "    <tr>\n",
              "      <th>3</th>\n",
              "      <td>2000-01-06</td>\n",
              "      <td>1.5291</td>\n",
              "      <td>0.9686</td>\n",
              "      <td>1.9436</td>\n",
              "      <td>0.6070</td>\n",
              "      <td>1.8400</td>\n",
              "      <td>1.4571</td>\n",
              "      <td>8.2797</td>\n",
              "      <td>7.7785</td>\n",
              "      <td>43.55</td>\n",
              "      <td>...</td>\n",
              "      <td>1.6655</td>\n",
              "      <td>7.2125</td>\n",
              "      <td>105.19</td>\n",
              "      <td>3.8</td>\n",
              "      <td>7.940</td>\n",
              "      <td>8.3675</td>\n",
              "      <td>72.95</td>\n",
              "      <td>1.5540</td>\n",
              "      <td>31.75</td>\n",
              "      <td>37.62</td>\n",
              "    </tr>\n",
              "    <tr>\n",
              "      <th>4</th>\n",
              "      <td>2000-01-07</td>\n",
              "      <td>1.5272</td>\n",
              "      <td>0.9714</td>\n",
              "      <td>1.9380</td>\n",
              "      <td>0.6104</td>\n",
              "      <td>1.8310</td>\n",
              "      <td>1.4505</td>\n",
              "      <td>8.2794</td>\n",
              "      <td>7.7783</td>\n",
              "      <td>43.55</td>\n",
              "      <td>...</td>\n",
              "      <td>1.6625</td>\n",
              "      <td>7.2285</td>\n",
              "      <td>105.17</td>\n",
              "      <td>3.8</td>\n",
              "      <td>7.966</td>\n",
              "      <td>8.4150</td>\n",
              "      <td>73.15</td>\n",
              "      <td>1.5623</td>\n",
              "      <td>30.85</td>\n",
              "      <td>37.30</td>\n",
              "    </tr>\n",
              "  </tbody>\n",
              "</table>\n",
              "<p>5 rows × 23 columns</p>\n",
              "</div>\n",
              "      <button class=\"colab-df-convert\" onclick=\"convertToInteractive('df-c46aa882-59bd-482c-859b-216ea3c71f20')\"\n",
              "              title=\"Convert this dataframe to an interactive table.\"\n",
              "              style=\"display:none;\">\n",
              "        \n",
              "  <svg xmlns=\"http://www.w3.org/2000/svg\" height=\"24px\"viewBox=\"0 0 24 24\"\n",
              "       width=\"24px\">\n",
              "    <path d=\"M0 0h24v24H0V0z\" fill=\"none\"/>\n",
              "    <path d=\"M18.56 5.44l.94 2.06.94-2.06 2.06-.94-2.06-.94-.94-2.06-.94 2.06-2.06.94zm-11 1L8.5 8.5l.94-2.06 2.06-.94-2.06-.94L8.5 2.5l-.94 2.06-2.06.94zm10 10l.94 2.06.94-2.06 2.06-.94-2.06-.94-.94-2.06-.94 2.06-2.06.94z\"/><path d=\"M17.41 7.96l-1.37-1.37c-.4-.4-.92-.59-1.43-.59-.52 0-1.04.2-1.43.59L10.3 9.45l-7.72 7.72c-.78.78-.78 2.05 0 2.83L4 21.41c.39.39.9.59 1.41.59.51 0 1.02-.2 1.41-.59l7.78-7.78 2.81-2.81c.8-.78.8-2.07 0-2.86zM5.41 20L4 18.59l7.72-7.72 1.47 1.35L5.41 20z\"/>\n",
              "  </svg>\n",
              "      </button>\n",
              "      \n",
              "  <style>\n",
              "    .colab-df-container {\n",
              "      display:flex;\n",
              "      flex-wrap:wrap;\n",
              "      gap: 12px;\n",
              "    }\n",
              "\n",
              "    .colab-df-convert {\n",
              "      background-color: #E8F0FE;\n",
              "      border: none;\n",
              "      border-radius: 50%;\n",
              "      cursor: pointer;\n",
              "      display: none;\n",
              "      fill: #1967D2;\n",
              "      height: 32px;\n",
              "      padding: 0 0 0 0;\n",
              "      width: 32px;\n",
              "    }\n",
              "\n",
              "    .colab-df-convert:hover {\n",
              "      background-color: #E2EBFA;\n",
              "      box-shadow: 0px 1px 2px rgba(60, 64, 67, 0.3), 0px 1px 3px 1px rgba(60, 64, 67, 0.15);\n",
              "      fill: #174EA6;\n",
              "    }\n",
              "\n",
              "    [theme=dark] .colab-df-convert {\n",
              "      background-color: #3B4455;\n",
              "      fill: #D2E3FC;\n",
              "    }\n",
              "\n",
              "    [theme=dark] .colab-df-convert:hover {\n",
              "      background-color: #434B5C;\n",
              "      box-shadow: 0px 1px 3px 1px rgba(0, 0, 0, 0.15);\n",
              "      filter: drop-shadow(0px 1px 2px rgba(0, 0, 0, 0.3));\n",
              "      fill: #FFFFFF;\n",
              "    }\n",
              "  </style>\n",
              "\n",
              "      <script>\n",
              "        const buttonEl =\n",
              "          document.querySelector('#df-c46aa882-59bd-482c-859b-216ea3c71f20 button.colab-df-convert');\n",
              "        buttonEl.style.display =\n",
              "          google.colab.kernel.accessAllowed ? 'block' : 'none';\n",
              "\n",
              "        async function convertToInteractive(key) {\n",
              "          const element = document.querySelector('#df-c46aa882-59bd-482c-859b-216ea3c71f20');\n",
              "          const dataTable =\n",
              "            await google.colab.kernel.invokeFunction('convertToInteractive',\n",
              "                                                     [key], {});\n",
              "          if (!dataTable) return;\n",
              "\n",
              "          const docLinkHtml = 'Like what you see? Visit the ' +\n",
              "            '<a target=\"_blank\" href=https://colab.research.google.com/notebooks/data_table.ipynb>data table notebook</a>'\n",
              "            + ' to learn more about interactive tables.';\n",
              "          element.innerHTML = '';\n",
              "          dataTable['output_type'] = 'display_data';\n",
              "          await google.colab.output.renderOutput(dataTable, element);\n",
              "          const docLink = document.createElement('div');\n",
              "          docLink.innerHTML = docLinkHtml;\n",
              "          element.appendChild(docLink);\n",
              "        }\n",
              "      </script>\n",
              "    </div>\n",
              "  </div>\n",
              "  "
            ]
          },
          "metadata": {},
          "execution_count": 85
        }
      ]
    },
    {
      "cell_type": "code",
      "source": [
        "data.shape"
      ],
      "metadata": {
        "colab": {
          "base_uri": "https://localhost:8080/"
        },
        "id": "CVjgc4RuS4mR",
        "outputId": "6172137f-9008-42d9-e5c2-320ddc347418"
      },
      "execution_count": 86,
      "outputs": [
        {
          "output_type": "execute_result",
          "data": {
            "text/plain": [
              "(5217, 23)"
            ]
          },
          "metadata": {},
          "execution_count": 86
        }
      ]
    },
    {
      "cell_type": "code",
      "source": [
        "data.isna().sum()"
      ],
      "metadata": {
        "colab": {
          "base_uri": "https://localhost:8080/"
        },
        "id": "hrjo-0EXM6an",
        "outputId": "5db6c453-b2cd-486c-ef5d-d330d2af7585"
      },
      "execution_count": 87,
      "outputs": [
        {
          "output_type": "execute_result",
          "data": {
            "text/plain": [
              "Time Serie                                     0\n",
              "AUSTRALIA - AUSTRALIAN DOLLAR/US$            198\n",
              "EURO AREA - EURO/US$                         198\n",
              "NEW ZEALAND - NEW ZELAND DOLLAR/US$          198\n",
              "UNITED KINGDOM - UNITED KINGDOM POUND/US$    198\n",
              "BRAZIL - REAL/US$                            198\n",
              "CANADA - CANADIAN DOLLAR/US$                 198\n",
              "CHINA - YUAN/US$                             197\n",
              "HONG KONG - HONG KONG DOLLAR/US$             198\n",
              "INDIA - INDIAN RUPEE/US$                     199\n",
              "KOREA - WON/US$                              198\n",
              "MEXICO - MEXICAN PESO/US$                    198\n",
              "SOUTH AFRICA - RAND/US$                      198\n",
              "SINGAPORE - SINGAPORE DOLLAR/US$             198\n",
              "DENMARK - DANISH KRONE/US$                   198\n",
              "JAPAN - YEN/US$                              198\n",
              "MALAYSIA - RINGGIT/US$                       198\n",
              "NORWAY - NORWEGIAN KRONE/US$                 198\n",
              "SWEDEN - KRONA/US$                           198\n",
              "SRI LANKA - SRI LANKAN RUPEE/US$             198\n",
              "SWITZERLAND - FRANC/US$                      198\n",
              "TAIWAN - NEW TAIWAN DOLLAR/US$               201\n",
              "THAILAND - BAHT/US$                          198\n",
              "dtype: int64"
            ]
          },
          "metadata": {},
          "execution_count": 87
        }
      ]
    },
    {
      "cell_type": "code",
      "source": [
        "data.dropna(inplace=True)"
      ],
      "metadata": {
        "id": "PYrXVeQWNHqI"
      },
      "execution_count": 88,
      "outputs": []
    },
    {
      "cell_type": "code",
      "source": [
        "data.shape"
      ],
      "metadata": {
        "colab": {
          "base_uri": "https://localhost:8080/"
        },
        "id": "1xDv13JPS0Uo",
        "outputId": "09d1168d-0928-4c96-8c86-e89ca4c5bb9b"
      },
      "execution_count": 89,
      "outputs": [
        {
          "output_type": "execute_result",
          "data": {
            "text/plain": [
              "(5015, 23)"
            ]
          },
          "metadata": {},
          "execution_count": 89
        }
      ]
    },
    {
      "cell_type": "code",
      "source": [
        "new_data = {'Time Serie': data['Time Serie'], 'UK': data['UNITED KINGDOM - UNITED KINGDOM POUND/US$'], 'South Africa': data['SOUTH AFRICA - RAND/US$'], 'India': data['INDIA - INDIAN RUPEE/US$']}"
      ],
      "metadata": {
        "id": "EOvEl1FobQ2w"
      },
      "execution_count": 90,
      "outputs": []
    },
    {
      "cell_type": "code",
      "source": [
        "df = pd.DataFrame(new_data)"
      ],
      "metadata": {
        "id": "5tocqBSJb8SF"
      },
      "execution_count": 91,
      "outputs": []
    },
    {
      "cell_type": "code",
      "source": [
        "df.head()"
      ],
      "metadata": {
        "colab": {
          "base_uri": "https://localhost:8080/",
          "height": 206
        },
        "id": "qsNzbcNTcESk",
        "outputId": "cfc8a2c6-793d-4bd9-bc3d-aeda9976ac68"
      },
      "execution_count": 92,
      "outputs": [
        {
          "output_type": "execute_result",
          "data": {
            "text/plain": [
              "   Time Serie      UK  South Africa  India\n",
              "0  2000-01-03  0.6146         6.126  43.55\n",
              "1  2000-01-04  0.6109         6.085  43.55\n",
              "2  2000-01-05  0.6092         6.070  43.55\n",
              "3  2000-01-06  0.6070         6.080  43.55\n",
              "4  2000-01-07  0.6104         6.057  43.55"
            ],
            "text/html": [
              "\n",
              "  <div id=\"df-b69782b4-8f04-43fb-aa49-d19dc02986f0\">\n",
              "    <div class=\"colab-df-container\">\n",
              "      <div>\n",
              "<style scoped>\n",
              "    .dataframe tbody tr th:only-of-type {\n",
              "        vertical-align: middle;\n",
              "    }\n",
              "\n",
              "    .dataframe tbody tr th {\n",
              "        vertical-align: top;\n",
              "    }\n",
              "\n",
              "    .dataframe thead th {\n",
              "        text-align: right;\n",
              "    }\n",
              "</style>\n",
              "<table border=\"1\" class=\"dataframe\">\n",
              "  <thead>\n",
              "    <tr style=\"text-align: right;\">\n",
              "      <th></th>\n",
              "      <th>Time Serie</th>\n",
              "      <th>UK</th>\n",
              "      <th>South Africa</th>\n",
              "      <th>India</th>\n",
              "    </tr>\n",
              "  </thead>\n",
              "  <tbody>\n",
              "    <tr>\n",
              "      <th>0</th>\n",
              "      <td>2000-01-03</td>\n",
              "      <td>0.6146</td>\n",
              "      <td>6.126</td>\n",
              "      <td>43.55</td>\n",
              "    </tr>\n",
              "    <tr>\n",
              "      <th>1</th>\n",
              "      <td>2000-01-04</td>\n",
              "      <td>0.6109</td>\n",
              "      <td>6.085</td>\n",
              "      <td>43.55</td>\n",
              "    </tr>\n",
              "    <tr>\n",
              "      <th>2</th>\n",
              "      <td>2000-01-05</td>\n",
              "      <td>0.6092</td>\n",
              "      <td>6.070</td>\n",
              "      <td>43.55</td>\n",
              "    </tr>\n",
              "    <tr>\n",
              "      <th>3</th>\n",
              "      <td>2000-01-06</td>\n",
              "      <td>0.6070</td>\n",
              "      <td>6.080</td>\n",
              "      <td>43.55</td>\n",
              "    </tr>\n",
              "    <tr>\n",
              "      <th>4</th>\n",
              "      <td>2000-01-07</td>\n",
              "      <td>0.6104</td>\n",
              "      <td>6.057</td>\n",
              "      <td>43.55</td>\n",
              "    </tr>\n",
              "  </tbody>\n",
              "</table>\n",
              "</div>\n",
              "      <button class=\"colab-df-convert\" onclick=\"convertToInteractive('df-b69782b4-8f04-43fb-aa49-d19dc02986f0')\"\n",
              "              title=\"Convert this dataframe to an interactive table.\"\n",
              "              style=\"display:none;\">\n",
              "        \n",
              "  <svg xmlns=\"http://www.w3.org/2000/svg\" height=\"24px\"viewBox=\"0 0 24 24\"\n",
              "       width=\"24px\">\n",
              "    <path d=\"M0 0h24v24H0V0z\" fill=\"none\"/>\n",
              "    <path d=\"M18.56 5.44l.94 2.06.94-2.06 2.06-.94-2.06-.94-.94-2.06-.94 2.06-2.06.94zm-11 1L8.5 8.5l.94-2.06 2.06-.94-2.06-.94L8.5 2.5l-.94 2.06-2.06.94zm10 10l.94 2.06.94-2.06 2.06-.94-2.06-.94-.94-2.06-.94 2.06-2.06.94z\"/><path d=\"M17.41 7.96l-1.37-1.37c-.4-.4-.92-.59-1.43-.59-.52 0-1.04.2-1.43.59L10.3 9.45l-7.72 7.72c-.78.78-.78 2.05 0 2.83L4 21.41c.39.39.9.59 1.41.59.51 0 1.02-.2 1.41-.59l7.78-7.78 2.81-2.81c.8-.78.8-2.07 0-2.86zM5.41 20L4 18.59l7.72-7.72 1.47 1.35L5.41 20z\"/>\n",
              "  </svg>\n",
              "      </button>\n",
              "      \n",
              "  <style>\n",
              "    .colab-df-container {\n",
              "      display:flex;\n",
              "      flex-wrap:wrap;\n",
              "      gap: 12px;\n",
              "    }\n",
              "\n",
              "    .colab-df-convert {\n",
              "      background-color: #E8F0FE;\n",
              "      border: none;\n",
              "      border-radius: 50%;\n",
              "      cursor: pointer;\n",
              "      display: none;\n",
              "      fill: #1967D2;\n",
              "      height: 32px;\n",
              "      padding: 0 0 0 0;\n",
              "      width: 32px;\n",
              "    }\n",
              "\n",
              "    .colab-df-convert:hover {\n",
              "      background-color: #E2EBFA;\n",
              "      box-shadow: 0px 1px 2px rgba(60, 64, 67, 0.3), 0px 1px 3px 1px rgba(60, 64, 67, 0.15);\n",
              "      fill: #174EA6;\n",
              "    }\n",
              "\n",
              "    [theme=dark] .colab-df-convert {\n",
              "      background-color: #3B4455;\n",
              "      fill: #D2E3FC;\n",
              "    }\n",
              "\n",
              "    [theme=dark] .colab-df-convert:hover {\n",
              "      background-color: #434B5C;\n",
              "      box-shadow: 0px 1px 3px 1px rgba(0, 0, 0, 0.15);\n",
              "      filter: drop-shadow(0px 1px 2px rgba(0, 0, 0, 0.3));\n",
              "      fill: #FFFFFF;\n",
              "    }\n",
              "  </style>\n",
              "\n",
              "      <script>\n",
              "        const buttonEl =\n",
              "          document.querySelector('#df-b69782b4-8f04-43fb-aa49-d19dc02986f0 button.colab-df-convert');\n",
              "        buttonEl.style.display =\n",
              "          google.colab.kernel.accessAllowed ? 'block' : 'none';\n",
              "\n",
              "        async function convertToInteractive(key) {\n",
              "          const element = document.querySelector('#df-b69782b4-8f04-43fb-aa49-d19dc02986f0');\n",
              "          const dataTable =\n",
              "            await google.colab.kernel.invokeFunction('convertToInteractive',\n",
              "                                                     [key], {});\n",
              "          if (!dataTable) return;\n",
              "\n",
              "          const docLinkHtml = 'Like what you see? Visit the ' +\n",
              "            '<a target=\"_blank\" href=https://colab.research.google.com/notebooks/data_table.ipynb>data table notebook</a>'\n",
              "            + ' to learn more about interactive tables.';\n",
              "          element.innerHTML = '';\n",
              "          dataTable['output_type'] = 'display_data';\n",
              "          await google.colab.output.renderOutput(dataTable, element);\n",
              "          const docLink = document.createElement('div');\n",
              "          docLink.innerHTML = docLinkHtml;\n",
              "          element.appendChild(docLink);\n",
              "        }\n",
              "      </script>\n",
              "    </div>\n",
              "  </div>\n",
              "  "
            ]
          },
          "metadata": {},
          "execution_count": 92
        }
      ]
    },
    {
      "cell_type": "code",
      "source": [
        "df.duplicated().sum()"
      ],
      "metadata": {
        "id": "o_huXItOW1YA",
        "colab": {
          "base_uri": "https://localhost:8080/"
        },
        "outputId": "46ab28e3-8cd9-4678-90ea-30df750dbd11"
      },
      "execution_count": 93,
      "outputs": [
        {
          "output_type": "execute_result",
          "data": {
            "text/plain": [
              "0"
            ]
          },
          "metadata": {},
          "execution_count": 93
        }
      ]
    },
    {
      "cell_type": "code",
      "source": [
        "df.describe()"
      ],
      "metadata": {
        "colab": {
          "base_uri": "https://localhost:8080/",
          "height": 300
        },
        "id": "PWy9WKcONt6l",
        "outputId": "9bd70202-edab-4a10-e954-6c4957d1f66c"
      },
      "execution_count": 94,
      "outputs": [
        {
          "output_type": "execute_result",
          "data": {
            "text/plain": [
              "                UK  South Africa        India\n",
              "count  5015.000000   5015.000000  5015.000000\n",
              "mean      0.640466      9.422128    52.726249\n",
              "std       0.082562      2.831540     9.678708\n",
              "min       0.473800      5.615000    38.480000\n",
              "25%       0.587500      7.113750    45.250000\n",
              "50%       0.636500      8.167100    48.100000\n",
              "75%       0.692400     11.626250    62.440000\n",
              "max       0.828700     16.884500    74.330000"
            ],
            "text/html": [
              "\n",
              "  <div id=\"df-c0c334f2-c190-477e-9606-c659f0ceba1d\">\n",
              "    <div class=\"colab-df-container\">\n",
              "      <div>\n",
              "<style scoped>\n",
              "    .dataframe tbody tr th:only-of-type {\n",
              "        vertical-align: middle;\n",
              "    }\n",
              "\n",
              "    .dataframe tbody tr th {\n",
              "        vertical-align: top;\n",
              "    }\n",
              "\n",
              "    .dataframe thead th {\n",
              "        text-align: right;\n",
              "    }\n",
              "</style>\n",
              "<table border=\"1\" class=\"dataframe\">\n",
              "  <thead>\n",
              "    <tr style=\"text-align: right;\">\n",
              "      <th></th>\n",
              "      <th>UK</th>\n",
              "      <th>South Africa</th>\n",
              "      <th>India</th>\n",
              "    </tr>\n",
              "  </thead>\n",
              "  <tbody>\n",
              "    <tr>\n",
              "      <th>count</th>\n",
              "      <td>5015.000000</td>\n",
              "      <td>5015.000000</td>\n",
              "      <td>5015.000000</td>\n",
              "    </tr>\n",
              "    <tr>\n",
              "      <th>mean</th>\n",
              "      <td>0.640466</td>\n",
              "      <td>9.422128</td>\n",
              "      <td>52.726249</td>\n",
              "    </tr>\n",
              "    <tr>\n",
              "      <th>std</th>\n",
              "      <td>0.082562</td>\n",
              "      <td>2.831540</td>\n",
              "      <td>9.678708</td>\n",
              "    </tr>\n",
              "    <tr>\n",
              "      <th>min</th>\n",
              "      <td>0.473800</td>\n",
              "      <td>5.615000</td>\n",
              "      <td>38.480000</td>\n",
              "    </tr>\n",
              "    <tr>\n",
              "      <th>25%</th>\n",
              "      <td>0.587500</td>\n",
              "      <td>7.113750</td>\n",
              "      <td>45.250000</td>\n",
              "    </tr>\n",
              "    <tr>\n",
              "      <th>50%</th>\n",
              "      <td>0.636500</td>\n",
              "      <td>8.167100</td>\n",
              "      <td>48.100000</td>\n",
              "    </tr>\n",
              "    <tr>\n",
              "      <th>75%</th>\n",
              "      <td>0.692400</td>\n",
              "      <td>11.626250</td>\n",
              "      <td>62.440000</td>\n",
              "    </tr>\n",
              "    <tr>\n",
              "      <th>max</th>\n",
              "      <td>0.828700</td>\n",
              "      <td>16.884500</td>\n",
              "      <td>74.330000</td>\n",
              "    </tr>\n",
              "  </tbody>\n",
              "</table>\n",
              "</div>\n",
              "      <button class=\"colab-df-convert\" onclick=\"convertToInteractive('df-c0c334f2-c190-477e-9606-c659f0ceba1d')\"\n",
              "              title=\"Convert this dataframe to an interactive table.\"\n",
              "              style=\"display:none;\">\n",
              "        \n",
              "  <svg xmlns=\"http://www.w3.org/2000/svg\" height=\"24px\"viewBox=\"0 0 24 24\"\n",
              "       width=\"24px\">\n",
              "    <path d=\"M0 0h24v24H0V0z\" fill=\"none\"/>\n",
              "    <path d=\"M18.56 5.44l.94 2.06.94-2.06 2.06-.94-2.06-.94-.94-2.06-.94 2.06-2.06.94zm-11 1L8.5 8.5l.94-2.06 2.06-.94-2.06-.94L8.5 2.5l-.94 2.06-2.06.94zm10 10l.94 2.06.94-2.06 2.06-.94-2.06-.94-.94-2.06-.94 2.06-2.06.94z\"/><path d=\"M17.41 7.96l-1.37-1.37c-.4-.4-.92-.59-1.43-.59-.52 0-1.04.2-1.43.59L10.3 9.45l-7.72 7.72c-.78.78-.78 2.05 0 2.83L4 21.41c.39.39.9.59 1.41.59.51 0 1.02-.2 1.41-.59l7.78-7.78 2.81-2.81c.8-.78.8-2.07 0-2.86zM5.41 20L4 18.59l7.72-7.72 1.47 1.35L5.41 20z\"/>\n",
              "  </svg>\n",
              "      </button>\n",
              "      \n",
              "  <style>\n",
              "    .colab-df-container {\n",
              "      display:flex;\n",
              "      flex-wrap:wrap;\n",
              "      gap: 12px;\n",
              "    }\n",
              "\n",
              "    .colab-df-convert {\n",
              "      background-color: #E8F0FE;\n",
              "      border: none;\n",
              "      border-radius: 50%;\n",
              "      cursor: pointer;\n",
              "      display: none;\n",
              "      fill: #1967D2;\n",
              "      height: 32px;\n",
              "      padding: 0 0 0 0;\n",
              "      width: 32px;\n",
              "    }\n",
              "\n",
              "    .colab-df-convert:hover {\n",
              "      background-color: #E2EBFA;\n",
              "      box-shadow: 0px 1px 2px rgba(60, 64, 67, 0.3), 0px 1px 3px 1px rgba(60, 64, 67, 0.15);\n",
              "      fill: #174EA6;\n",
              "    }\n",
              "\n",
              "    [theme=dark] .colab-df-convert {\n",
              "      background-color: #3B4455;\n",
              "      fill: #D2E3FC;\n",
              "    }\n",
              "\n",
              "    [theme=dark] .colab-df-convert:hover {\n",
              "      background-color: #434B5C;\n",
              "      box-shadow: 0px 1px 3px 1px rgba(0, 0, 0, 0.15);\n",
              "      filter: drop-shadow(0px 1px 2px rgba(0, 0, 0, 0.3));\n",
              "      fill: #FFFFFF;\n",
              "    }\n",
              "  </style>\n",
              "\n",
              "      <script>\n",
              "        const buttonEl =\n",
              "          document.querySelector('#df-c0c334f2-c190-477e-9606-c659f0ceba1d button.colab-df-convert');\n",
              "        buttonEl.style.display =\n",
              "          google.colab.kernel.accessAllowed ? 'block' : 'none';\n",
              "\n",
              "        async function convertToInteractive(key) {\n",
              "          const element = document.querySelector('#df-c0c334f2-c190-477e-9606-c659f0ceba1d');\n",
              "          const dataTable =\n",
              "            await google.colab.kernel.invokeFunction('convertToInteractive',\n",
              "                                                     [key], {});\n",
              "          if (!dataTable) return;\n",
              "\n",
              "          const docLinkHtml = 'Like what you see? Visit the ' +\n",
              "            '<a target=\"_blank\" href=https://colab.research.google.com/notebooks/data_table.ipynb>data table notebook</a>'\n",
              "            + ' to learn more about interactive tables.';\n",
              "          element.innerHTML = '';\n",
              "          dataTable['output_type'] = 'display_data';\n",
              "          await google.colab.output.renderOutput(dataTable, element);\n",
              "          const docLink = document.createElement('div');\n",
              "          docLink.innerHTML = docLinkHtml;\n",
              "          element.appendChild(docLink);\n",
              "        }\n",
              "      </script>\n",
              "    </div>\n",
              "  </div>\n",
              "  "
            ]
          },
          "metadata": {},
          "execution_count": 94
        }
      ]
    },
    {
      "cell_type": "markdown",
      "source": [
        "### Analysis of UK exchange rate"
      ],
      "metadata": {
        "id": "_AxwpXUdbobp"
      }
    },
    {
      "cell_type": "code",
      "source": [
        "\n",
        "uk_analysis = df[['Time Serie', 'UK']]\n",
        "\n",
        "arr = uk_analysis\n",
        "arr.columns = ['a', 'b']\n",
        "\n",
        "arr.a = arr.a.astype('datetime64')\n",
        "arr.b = arr.b.astype(float)\n",
        "\n",
        "plt.figure(figsize=(15, 5))\n",
        "plt.plot(arr.a, arr.b)"
      ],
      "metadata": {
        "id": "El_fqrB8pbww",
        "colab": {
          "base_uri": "https://localhost:8080/",
          "height": 337
        },
        "outputId": "78c1272c-567f-420f-e754-e94ee4b16793"
      },
      "execution_count": 95,
      "outputs": [
        {
          "output_type": "execute_result",
          "data": {
            "text/plain": [
              "[<matplotlib.lines.Line2D at 0x7fd6f3f9cd10>]"
            ]
          },
          "metadata": {},
          "execution_count": 95
        },
        {
          "output_type": "display_data",
          "data": {
            "text/plain": [
              "<Figure size 1080x360 with 1 Axes>"
            ],
            "image/png": "[encoded data removed]"
          },
          "metadata": {
            "needs_background": "light"
          }
        }
      ]
    },
    {
      "cell_type": "markdown",
      "source": [
        "From the trend,  the data is not stationary (mean is not constant)"
      ],
      "metadata": {
        "id": "1JpOFCFVOB6M"
      }
    },
    {
      "cell_type": "code",
      "source": [
        "# check the stationarity of the data with rolling statistics\n",
        "# check the rolling mean at the year level (12 months)\n",
        "mean = uk_analysis.rolling(window=12).mean()\n",
        "\n",
        "# check the rolling standard deviation of the year\n",
        "std = uk_analysis.rolling(window=12).std()\n",
        "\n",
        "print(arr.a,mean, std)"
      ],
      "metadata": {
        "colab": {
          "base_uri": "https://localhost:8080/"
        },
        "id": "y1x61AJJImbl",
        "outputId": "8231ded9-11b5-49a5-f9d5-f52f3d0ba525"
      },
      "execution_count": 96,
      "outputs": [
        {
          "output_type": "stream",
          "name": "stdout",
          "text": [
            "0      2000-01-03\n",
            "1      2000-01-04\n",
            "2      2000-01-05\n",
            "3      2000-01-06\n",
            "4      2000-01-07\n",
            "          ...    \n",
            "5211   2019-12-24\n",
            "5213   2019-12-26\n",
            "5214   2019-12-27\n",
            "5215   2019-12-30\n",
            "5216   2019-12-31\n",
            "Name: a, Length: 5015, dtype: datetime64[ns]              b\n",
            "0          NaN\n",
            "1          NaN\n",
            "2          NaN\n",
            "3          NaN\n",
            "4          NaN\n",
            "...        ...\n",
            "5211  0.762167\n",
            "5213  0.762892\n",
            "5214  0.763317\n",
            "5215  0.763483\n",
            "5216  0.762833\n",
            "\n",
            "[5015 rows x 1 columns]              b\n",
            "0          NaN\n",
            "1          NaN\n",
            "2          NaN\n",
            "3          NaN\n",
            "4          NaN\n",
            "...        ...\n",
            "5211  0.007600\n",
            "5213  0.007797\n",
            "5214  0.007692\n",
            "5215  0.007611\n",
            "5216  0.008122\n",
            "\n",
            "[5015 rows x 1 columns]\n"
          ]
        }
      ]
    },
    {
      "cell_type": "markdown",
      "source": [
        "mean and SD is not constant"
      ],
      "metadata": {
        "id": "QgnnVxJ3TRGt"
      }
    },
    {
      "cell_type": "code",
      "source": [
        "# Dickey-Fuller test for stationarity with the statsmodel package\n",
        "from statsmodels.tsa.stattools import adfuller\n",
        "\n",
        "adfTest = adfuller(uk_analysis['b'], autolag='AIC')\n",
        "\n",
        "adf = pd.Series(adfTest[0:4],  index=['Test statistics', 'p-value', 'no_of_lags', 'no_of_observations'])\n",
        "for key, value in adfTest[4].items():\n",
        "  adf[f'Critical Value {key}'] = value\n",
        "\n",
        "print(adf)"
      ],
      "metadata": {
        "colab": {
          "base_uri": "https://localhost:8080/"
        },
        "id": "eCp4Ii7aRjgI",
        "outputId": "32a66485-00ba-4cb0-f52d-7b92f3a4941a"
      },
      "execution_count": 97,
      "outputs": [
        {
          "output_type": "stream",
          "name": "stdout",
          "text": [
            "Test statistics         -1.218446\n",
            "p-value                  0.665611\n",
            "no_of_lags              23.000000\n",
            "no_of_observations    4991.000000\n",
            "Critical Value 1%       -3.431661\n",
            "Critical Value 5%       -2.862119\n",
            "Critical Value 10%      -2.567078\n",
            "dtype: float64\n"
          ]
        }
      ]
    },
    {
      "cell_type": "markdown",
      "source": [
        "The p-value obtained is greater than the significance level of 0.05 and the ADF statistic is higher than any of the critical values.\n",
        "\n",
        "Clearly, there is no reason to reject the null hypothesis. So, the time series(UK exchange rate) is in fact non-stationary."
      ],
      "metadata": {
        "id": "FZxAk2opXTWR"
      }
    },
    {
      "cell_type": "code",
      "source": [
        "# estimate the trend\n",
        "uk_analysis_log = np.log(uk_analysis['b'])\n",
        "plt.plot(uk_analysis_log)"
      ],
      "metadata": {
        "id": "5c5ISxc3VXZu",
        "colab": {
          "base_uri": "https://localhost:8080/",
          "height": 282
        },
        "outputId": "5c9149dd-8ebd-4148-c4bb-ba022441168d"
      },
      "execution_count": 98,
      "outputs": [
        {
          "output_type": "execute_result",
          "data": {
            "text/plain": [
              "[<matplotlib.lines.Line2D at 0x7fd6f40d1f10>]"
            ]
          },
          "metadata": {},
          "execution_count": 98
        },
        {
          "output_type": "display_data",
          "data": {
            "text/plain": [
              "<Figure size 432x288 with 1 Axes>"
            ],
            "image/png": "[encoded data removed]"
          },
          "metadata": {
            "needs_background": "light"
          }
        }
      ]
    },
    {
      "cell_type": "markdown",
      "source": [
        "compared to the original, the trends remains the same but the value of y changed"
      ],
      "metadata": {
        "id": "wScnZfsdYLxC"
      }
    },
    {
      "cell_type": "code",
      "source": [
        "# get the moving average with the same window from before\n",
        "movingAvg = uk_analysis_log.rolling(window=12).mean()\n",
        "\n",
        "plt.plot(uk_analysis_log)\n",
        "plt.plot(movingAvg, color='black')"
      ],
      "metadata": {
        "colab": {
          "base_uri": "https://localhost:8080/",
          "height": 282
        },
        "id": "fppQkCoeX6iY",
        "outputId": "6dd51ebb-4e06-47da-a6a9-d5a099b9ad90"
      },
      "execution_count": 99,
      "outputs": [
        {
          "output_type": "execute_result",
          "data": {
            "text/plain": [
              "[<matplotlib.lines.Line2D at 0x7fd701ef1d50>]"
            ]
          },
          "metadata": {},
          "execution_count": 99
        },
        {
          "output_type": "display_data",
          "data": {
            "text/plain": [
              "<Figure size 432x288 with 1 Axes>"
            ],
            "image/png": "[encoded data removed]"
          },
          "metadata": {
            "needs_background": "light"
          }
        }
      ]
    },
    {
      "cell_type": "markdown",
      "source": [
        "### Attempts to make the data stationary"
      ],
      "metadata": {
        "id": "n5z-P1fGbAOc"
      }
    },
    {
      "cell_type": "markdown",
      "source": [
        "1. Log transformations"
      ],
      "metadata": {
        "id": "cs7QcpGJbFYV"
      }
    },
    {
      "cell_type": "code",
      "source": [
        "df1 = uk_analysis['b'].apply(np.log)\n",
        "df1 = np.log(uk_analysis['b']) # equivalent\n",
        "plt.plot(df1) # equivalent"
      ],
      "metadata": {
        "colab": {
          "base_uri": "https://localhost:8080/",
          "height": 282
        },
        "id": "Mquirg5rZA9N",
        "outputId": "b63c055c-4b7b-4e0d-9dda-8fff8c40d42e"
      },
      "execution_count": 100,
      "outputs": [
        {
          "output_type": "execute_result",
          "data": {
            "text/plain": [
              "[<matplotlib.lines.Line2D at 0x7fd701efd150>]"
            ]
          },
          "metadata": {},
          "execution_count": 100
        },
        {
          "output_type": "display_data",
          "data": {
            "text/plain": [
              "<Figure size 432x288 with 1 Axes>"
            ],
            "image/png": "[encoded data removed]"
          },
          "metadata": {
            "needs_background": "light"
          }
        }
      ]
    },
    {
      "cell_type": "markdown",
      "source": [
        "no much difference with the original"
      ],
      "metadata": {
        "id": "t3Dcld85bRzY"
      }
    },
    {
      "cell_type": "code",
      "source": [
        ""
      ],
      "metadata": {
        "id": "3niUdJ9lazwQ"
      },
      "execution_count": 100,
      "outputs": []
    }
  ]
}